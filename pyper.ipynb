{
 "cells": [
  {
   "cell_type": "code",
   "execution_count": 1,
   "metadata": {},
   "outputs": [],
   "source": [
    "from pyper.viper_interface.viper_classes import PolhemusViper"
   ]
  },
  {
   "cell_type": "code",
   "execution_count": 2,
   "metadata": {},
   "outputs": [],
   "source": [
    "viper = PolhemusViper()\n",
    "dev, ep = viper.connect(return_endpoint=True)"
   ]
  },
  {
   "cell_type": "code",
   "execution_count": 28,
   "metadata": {},
   "outputs": [
    {
     "data": {
      "text/html": [
       "<div>\n",
       "<style scoped>\n",
       "    .dataframe tbody tr th:only-of-type {\n",
       "        vertical-align: middle;\n",
       "    }\n",
       "\n",
       "    .dataframe tbody tr th {\n",
       "        vertical-align: top;\n",
       "    }\n",
       "\n",
       "    .dataframe thead th {\n",
       "        text-align: right;\n",
       "    }\n",
       "</style>\n",
       "<table border=\"1\" class=\"dataframe\">\n",
       "  <thead>\n",
       "    <tr style=\"text-align: right;\">\n",
       "      <th></th>\n",
       "      <th>sensor_n</th>\n",
       "      <th>frames</th>\n",
       "      <th>time</th>\n",
       "      <th>x</th>\n",
       "      <th>y</th>\n",
       "      <th>z</th>\n",
       "      <th>azimuth</th>\n",
       "      <th>elevation</th>\n",
       "      <th>roll</th>\n",
       "    </tr>\n",
       "  </thead>\n",
       "  <tbody>\n",
       "    <tr>\n",
       "      <th>0</th>\n",
       "      <td>1</td>\n",
       "      <td>686938</td>\n",
       "      <td>2022-05-05T20:01:34.340193</td>\n",
       "      <td>8.944830</td>\n",
       "      <td>5.593398</td>\n",
       "      <td>2.281615</td>\n",
       "      <td>172.951691</td>\n",
       "      <td>-27.438643</td>\n",
       "      <td>-166.743607</td>\n",
       "    </tr>\n",
       "    <tr>\n",
       "      <th>1</th>\n",
       "      <td>2</td>\n",
       "      <td>686938</td>\n",
       "      <td>2022-05-05T20:01:34.340193</td>\n",
       "      <td>43.863167</td>\n",
       "      <td>-38.972050</td>\n",
       "      <td>1.047769</td>\n",
       "      <td>140.156906</td>\n",
       "      <td>-3.605413</td>\n",
       "      <td>132.821716</td>\n",
       "    </tr>\n",
       "  </tbody>\n",
       "</table>\n",
       "</div>"
      ],
      "text/plain": [
       "   sensor_n  frames                        time          x          y  \\\n",
       "0         1  686938  2022-05-05T20:01:34.340193   8.944830   5.593398   \n",
       "1         2  686938  2022-05-05T20:01:34.340193  43.863167 -38.972050   \n",
       "\n",
       "          z     azimuth  elevation        roll  \n",
       "0  2.281615  172.951691 -27.438643 -166.743607  \n",
       "1  1.047769  140.156906  -3.605413  132.821716  "
      ]
     },
     "execution_count": 28,
     "metadata": {},
     "output_type": "execute_result"
    }
   ],
   "source": [
    "df = viper.get_single_pno(dev=dev, ep=ep, pno_mode=\"standard\")\n",
    "df"
   ]
  }
 ],
 "metadata": {
  "interpreter": {
   "hash": "abb6df41f3107174543039f696418ded404320305a3e1e8c762e29b0dbc25cfc"
  },
  "kernelspec": {
   "display_name": "Python 3.10.2 ('stats_anal')",
   "language": "python",
   "name": "python3"
  },
  "language_info": {
   "codemirror_mode": {
    "name": "ipython",
    "version": 3
   },
   "file_extension": ".py",
   "mimetype": "text/x-python",
   "name": "python",
   "nbconvert_exporter": "python",
   "pygments_lexer": "ipython3",
   "version": "3.10.2"
  },
  "orig_nbformat": 4
 },
 "nbformat": 4,
 "nbformat_minor": 2
}
