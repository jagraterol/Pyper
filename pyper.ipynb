{
 "cells": [
  {
   "cell_type": "code",
   "execution_count": 1,
   "metadata": {},
   "outputs": [],
   "source": [
    "from pyper.viper_interface.viper_classes import PolhemusViper\n",
    "from pyper.io.io_utils import extract_data_from_frame_continuous\n",
    "from threading import Event\n",
    "from multiprocessing.pool import ThreadPool\n",
    "import time\n",
    "import pandas as pd\n",
    "import array"
   ]
  },
  {
   "cell_type": "code",
   "execution_count": 2,
   "metadata": {},
   "outputs": [],
   "source": [
    "viper = PolhemusViper()\n",
    "viper.connect()"
   ]
  },
  {
   "cell_type": "code",
   "execution_count": 3,
   "metadata": {},
   "outputs": [
    {
     "name": "stdout",
     "output_type": "stream",
     "text": [
      "[86, 80, 82, 67, 24, 0, 0, 0, 0, 0, 0, 0, 19, 0, 0, 0, 3, 0, 0, 0, 0, 0, 0, 0, 0, 0, 0, 0, 103, 246, 0, 0]\n"
     ]
    }
   ],
   "source": [
    "viper.start_continuous()"
   ]
  },
  {
   "cell_type": "code",
   "execution_count": 3,
   "metadata": {},
   "outputs": [
    {
     "name": "stdout",
     "output_type": "stream",
     "text": [
      "[86, 80, 82, 80, 116, 0, 0, 0, 0, 0, 0, 0, 9, 0, 0, 0, 0, 0, 0, 0, 3, 0, 0, 0, 0, 66, 8, 0, 25, 201, 206, 65, 46, 124, 103, 66, 66, 50, 160, 63, 214, 59, 18, 194, 85, 186, 151, 193, 124, 116, 3, 67, 0, 0, 0, 0, 1, 2, 0, 0, 29, 42, 228, 64, 32, 153, 118, 65, 206, 225, 32, 63, 9, 29, 242, 194, 142, 60, 60, 65, 51, 91, 31, 67, 0, 0, 0, 0, 2, 194, 3, 0, 157, 48, 6, 66, 55, 73, 233, 63, 139, 180, 143, 64, 145, 230, 8, 195, 209, 55, 70, 65, 80, 98, 12, 67, 0, 0, 0, 0, 29, 47, 0, 0]\n"
     ]
    }
   ],
   "source": [
    "viper.stop_continuous()"
   ]
  },
  {
   "cell_type": "code",
   "execution_count": 5,
   "metadata": {},
   "outputs": [
    {
     "data": {
      "text/html": [
       "<div>\n",
       "<style scoped>\n",
       "    .dataframe tbody tr th:only-of-type {\n",
       "        vertical-align: middle;\n",
       "    }\n",
       "\n",
       "    .dataframe tbody tr th {\n",
       "        vertical-align: top;\n",
       "    }\n",
       "\n",
       "    .dataframe thead th {\n",
       "        text-align: right;\n",
       "    }\n",
       "</style>\n",
       "<table border=\"1\" class=\"dataframe\">\n",
       "  <thead>\n",
       "    <tr style=\"text-align: right;\">\n",
       "      <th></th>\n",
       "      <th>sensor_n</th>\n",
       "      <th>frames</th>\n",
       "      <th>time</th>\n",
       "      <th>x</th>\n",
       "      <th>y</th>\n",
       "      <th>z</th>\n",
       "      <th>azimuth</th>\n",
       "      <th>elevation</th>\n",
       "      <th>roll</th>\n",
       "    </tr>\n",
       "  </thead>\n",
       "  <tbody>\n",
       "    <tr>\n",
       "      <th>0</th>\n",
       "      <td>1</td>\n",
       "      <td>13984</td>\n",
       "      <td>2022-05-09T01:19:51.225131</td>\n",
       "      <td>25.884882</td>\n",
       "      <td>57.852329</td>\n",
       "      <td>1.241916</td>\n",
       "      <td>-36.628555</td>\n",
       "      <td>-19.006105</td>\n",
       "      <td>131.447342</td>\n",
       "    </tr>\n",
       "    <tr>\n",
       "      <th>1</th>\n",
       "      <td>2</td>\n",
       "      <td>13984</td>\n",
       "      <td>2022-05-09T01:19:51.225131</td>\n",
       "      <td>7.130177</td>\n",
       "      <td>15.412402</td>\n",
       "      <td>0.628317</td>\n",
       "      <td>-121.056694</td>\n",
       "      <td>11.764623</td>\n",
       "      <td>159.357880</td>\n",
       "    </tr>\n",
       "    <tr>\n",
       "      <th>2</th>\n",
       "      <td>3</td>\n",
       "      <td>13984</td>\n",
       "      <td>2022-05-09T01:19:51.225131</td>\n",
       "      <td>33.547073</td>\n",
       "      <td>1.824214</td>\n",
       "      <td>4.491611</td>\n",
       "      <td>-136.895950</td>\n",
       "      <td>12.382915</td>\n",
       "      <td>140.390244</td>\n",
       "    </tr>\n",
       "  </tbody>\n",
       "</table>\n",
       "</div>"
      ],
      "text/plain": [
       "   sensor_n  frames                        time          x          y  \\\n",
       "0         1   13984  2022-05-09T01:19:51.225131  25.884882  57.852329   \n",
       "1         2   13984  2022-05-09T01:19:51.225131   7.130177  15.412402   \n",
       "2         3   13984  2022-05-09T01:19:51.225131  33.547073   1.824214   \n",
       "\n",
       "          z     azimuth  elevation        roll  \n",
       "0  1.241916  -36.628555 -19.006105  131.447342  \n",
       "1  0.628317 -121.056694  11.764623  159.357880  \n",
       "2  4.491611 -136.895950  12.382915  140.390244  "
      ]
     },
     "execution_count": 5,
     "metadata": {},
     "output_type": "execute_result"
    }
   ],
   "source": [
    "viper.get_single_pno(pno_mode=\"standard\")"
   ]
  },
  {
   "cell_type": "code",
   "execution_count": 50,
   "metadata": {},
   "outputs": [
    {
     "data": {
      "text/html": [
       "<div>\n",
       "<style scoped>\n",
       "    .dataframe tbody tr th:only-of-type {\n",
       "        vertical-align: middle;\n",
       "    }\n",
       "\n",
       "    .dataframe tbody tr th {\n",
       "        vertical-align: top;\n",
       "    }\n",
       "\n",
       "    .dataframe thead th {\n",
       "        text-align: right;\n",
       "    }\n",
       "</style>\n",
       "<table border=\"1\" class=\"dataframe\">\n",
       "  <thead>\n",
       "    <tr style=\"text-align: right;\">\n",
       "      <th></th>\n",
       "      <th>sensor_n</th>\n",
       "      <th>frames</th>\n",
       "      <th>time</th>\n",
       "      <th>x</th>\n",
       "      <th>y</th>\n",
       "      <th>z</th>\n",
       "      <th>azimuth</th>\n",
       "      <th>elevation</th>\n",
       "      <th>roll</th>\n",
       "    </tr>\n",
       "  </thead>\n",
       "  <tbody>\n",
       "    <tr>\n",
       "      <th>0</th>\n",
       "      <td>1</td>\n",
       "      <td>508611</td>\n",
       "      <td>2022-05-09T01:07:50.370316</td>\n",
       "      <td>8.294545</td>\n",
       "      <td>51.357567</td>\n",
       "      <td>14.551523</td>\n",
       "      <td>123.009445</td>\n",
       "      <td>48.910873</td>\n",
       "      <td>-166.783478</td>\n",
       "    </tr>\n",
       "    <tr>\n",
       "      <th>1</th>\n",
       "      <td>2</td>\n",
       "      <td>508611</td>\n",
       "      <td>2022-05-09T01:07:50.370316</td>\n",
       "      <td>7.129799</td>\n",
       "      <td>15.412593</td>\n",
       "      <td>0.628341</td>\n",
       "      <td>-121.055176</td>\n",
       "      <td>11.763800</td>\n",
       "      <td>159.357513</td>\n",
       "    </tr>\n",
       "    <tr>\n",
       "      <th>2</th>\n",
       "      <td>3</td>\n",
       "      <td>508611</td>\n",
       "      <td>2022-05-09T01:07:50.370316</td>\n",
       "      <td>33.546608</td>\n",
       "      <td>1.822145</td>\n",
       "      <td>4.492939</td>\n",
       "      <td>-136.897614</td>\n",
       "      <td>12.394907</td>\n",
       "      <td>140.376556</td>\n",
       "    </tr>\n",
       "  </tbody>\n",
       "</table>\n",
       "</div>"
      ],
      "text/plain": [
       "   sensor_n  frames                        time          x          y  \\\n",
       "0         1  508611  2022-05-09T01:07:50.370316   8.294545  51.357567   \n",
       "1         2  508611  2022-05-09T01:07:50.370316   7.129799  15.412593   \n",
       "2         3  508611  2022-05-09T01:07:50.370316  33.546608   1.822145   \n",
       "\n",
       "           z     azimuth  elevation        roll  \n",
       "0  14.551523  123.009445  48.910873 -166.783478  \n",
       "1   0.628341 -121.055176  11.763800  159.357513  \n",
       "2   4.492939 -136.897614  12.394907  140.376556  "
      ]
     },
     "execution_count": 50,
     "metadata": {},
     "output_type": "execute_result"
    }
   ],
   "source": [
    "\n",
    "viper.get_single_pno()"
   ]
  },
  {
   "cell_type": "code",
   "execution_count": 27,
   "metadata": {},
   "outputs": [
    {
     "data": {
      "text/plain": [
       "140"
      ]
     },
     "execution_count": 27,
     "metadata": {},
     "output_type": "execute_result"
    }
   ],
   "source": [
    "max_cmd_read_size = 4 + 4 + 8 * 16 + 4\n",
    "max_cmd_read_size"
   ]
  },
  {
   "cell_type": "code",
   "execution_count": 38,
   "metadata": {},
   "outputs": [
    {
     "name": "stdout",
     "output_type": "stream",
     "text": [
      "array('B', [86, 80, 82, 67, 136, 0, 0, 0, 0, 0, 0, 0, 18, 0, 0, 0, 3, 0, 0, 0, 0, 0, 0, 0, 0, 0, 0, 0, 0, 0, 0, 0, 197, 198, 5, 0, 0, 0, 0, 0, 3, 0, 0, 0, 0, 2, 5, 0, 210, 173, 224, 65, 40, 110, 120, 66, 184, 25, 156, 63, 240, 150, 150, 66, 180, 248, 195, 191, 58, 70, 89, 194, 0, 0, 0, 0, 1, 2, 0, 0, 113, 39, 228, 64, 235, 153, 118, 65, 192, 250, 32, 63, 106, 28, 242, 194, 8, 58, 60, 65, 206, 90, 31, 67, 0, 0, 0, 0, 2, 194, 3, 0, 11, 48, 6, 66, 1, 120, 233, 63, 37, 173, 143, 64, 109, 227, 8, 195, 24, 90, 70, 65, 98, 100, 12, 67, 0, 0, 0, 0, 5, 229, 0, 0])\n"
     ]
    }
   ],
   "source": [
    "t = array.array('B', [86, 80, 82, 67, 24, 0, 0, 0, 0, 0, 0, 0, 18, 0, 0, 0, 1, 0, 0, 0, 0, 0, 0, 0, 0, 0, 0, 0, 95, 161, 0, 0])\n",
    "viper.dev.write(0x02, t, 200)\n",
    "\n",
    "resp = viper.dev.read(viper.endpoint, 200, 200)\n",
    "print(resp)"
   ]
  },
  {
   "cell_type": "code",
   "execution_count": 54,
   "metadata": {},
   "outputs": [
    {
     "ename": "USBTimeoutError",
     "evalue": "[Errno 10060] Operation timed out",
     "output_type": "error",
     "traceback": [
      "\u001b[1;31m---------------------------------------------------------------------------\u001b[0m",
      "\u001b[1;31mUSBTimeoutError\u001b[0m                           Traceback (most recent call last)",
      "\u001b[1;32mc:\\Users\\gpjos\\Documents\\git\\ViperTerminal\\pyper.ipynb Cell 3'\u001b[0m in \u001b[0;36m<module>\u001b[1;34m\u001b[0m\n\u001b[1;32m----> <a href='vscode-notebook-cell:/c%3A/Users/gpjos/Documents/git/ViperTerminal/pyper.ipynb#ch0000015?line=0'>1</a>\u001b[0m viper\u001b[39m.\u001b[39;49m_write_and_read(t)\n",
      "File \u001b[1;32mc:\\Users\\gpjos\\Documents\\git\\ViperTerminal\\pyper\\viper_interface\\viper_classes.py:127\u001b[0m, in \u001b[0;36mPolhemusViper._write_and_read\u001b[1;34m(self, msg)\u001b[0m\n\u001b[0;32m    <a href='file:///c%3A/Users/gpjos/Documents/git/ViperTerminal/pyper/viper_interface/viper_classes.py?line=125'>126</a>\u001b[0m \u001b[39mdef\u001b[39;00m \u001b[39m_write_and_read\u001b[39m(\u001b[39mself\u001b[39m, msg):\n\u001b[1;32m--> <a href='file:///c%3A/Users/gpjos/Documents/git/ViperTerminal/pyper/viper_interface/viper_classes.py?line=126'>127</a>\u001b[0m     \u001b[39mself\u001b[39;49m\u001b[39m.\u001b[39;49mdev\u001b[39m.\u001b[39;49mwrite(\u001b[39m0x02\u001b[39;49m, msg, \u001b[39m200\u001b[39;49m)\n\u001b[0;32m    <a href='file:///c%3A/Users/gpjos/Documents/git/ViperTerminal/pyper/viper_interface/viper_classes.py?line=127'>128</a>\u001b[0m     resp \u001b[39m=\u001b[39m \u001b[39mself\u001b[39m\u001b[39m.\u001b[39mdev\u001b[39m.\u001b[39mread(\u001b[39mself\u001b[39m\u001b[39m.\u001b[39mendpoint, \u001b[39mself\u001b[39m\u001b[39m.\u001b[39mconf[\u001b[39m\"\u001b[39m\u001b[39mmax_size\u001b[39m\u001b[39m\"\u001b[39m], \u001b[39m200\u001b[39m)\n\u001b[0;32m    <a href='file:///c%3A/Users/gpjos/Documents/git/ViperTerminal/pyper/viper_interface/viper_classes.py?line=128'>129</a>\u001b[0m     resp_list \u001b[39m=\u001b[39m resp\u001b[39m.\u001b[39mtolist()\n",
      "File \u001b[1;32mc:\\Users\\gpjos\\miniconda3\\envs\\stats_anal\\lib\\site-packages\\usb\\core.py:989\u001b[0m, in \u001b[0;36mDevice.write\u001b[1;34m(self, endpoint, data, timeout)\u001b[0m\n\u001b[0;32m    <a href='file:///c%3A/Users/gpjos/miniconda3/envs/stats_anal/lib/site-packages/usb/core.py?line=985'>986</a>\u001b[0m intf, ep \u001b[39m=\u001b[39m \u001b[39mself\u001b[39m\u001b[39m.\u001b[39m_ctx\u001b[39m.\u001b[39msetup_request(\u001b[39mself\u001b[39m, endpoint)\n\u001b[0;32m    <a href='file:///c%3A/Users/gpjos/miniconda3/envs/stats_anal/lib/site-packages/usb/core.py?line=986'>987</a>\u001b[0m fn \u001b[39m=\u001b[39m fn_map[util\u001b[39m.\u001b[39mendpoint_type(ep\u001b[39m.\u001b[39mbmAttributes)]\n\u001b[1;32m--> <a href='file:///c%3A/Users/gpjos/miniconda3/envs/stats_anal/lib/site-packages/usb/core.py?line=988'>989</a>\u001b[0m \u001b[39mreturn\u001b[39;00m fn(\n\u001b[0;32m    <a href='file:///c%3A/Users/gpjos/miniconda3/envs/stats_anal/lib/site-packages/usb/core.py?line=989'>990</a>\u001b[0m         \u001b[39mself\u001b[39;49m\u001b[39m.\u001b[39;49m_ctx\u001b[39m.\u001b[39;49mhandle,\n\u001b[0;32m    <a href='file:///c%3A/Users/gpjos/miniconda3/envs/stats_anal/lib/site-packages/usb/core.py?line=990'>991</a>\u001b[0m         ep\u001b[39m.\u001b[39;49mbEndpointAddress,\n\u001b[0;32m    <a href='file:///c%3A/Users/gpjos/miniconda3/envs/stats_anal/lib/site-packages/usb/core.py?line=991'>992</a>\u001b[0m         intf\u001b[39m.\u001b[39;49mbInterfaceNumber,\n\u001b[0;32m    <a href='file:///c%3A/Users/gpjos/miniconda3/envs/stats_anal/lib/site-packages/usb/core.py?line=992'>993</a>\u001b[0m         _interop\u001b[39m.\u001b[39;49mas_array(data),\n\u001b[0;32m    <a href='file:///c%3A/Users/gpjos/miniconda3/envs/stats_anal/lib/site-packages/usb/core.py?line=993'>994</a>\u001b[0m         \u001b[39mself\u001b[39;49m\u001b[39m.\u001b[39;49m__get_timeout(timeout)\n\u001b[0;32m    <a href='file:///c%3A/Users/gpjos/miniconda3/envs/stats_anal/lib/site-packages/usb/core.py?line=994'>995</a>\u001b[0m     )\n",
      "File \u001b[1;32mc:\\Users\\gpjos\\miniconda3\\envs\\stats_anal\\lib\\site-packages\\usb\\backend\\libusb1.py:837\u001b[0m, in \u001b[0;36m_LibUSB.bulk_write\u001b[1;34m(self, dev_handle, ep, intf, data, timeout)\u001b[0m\n\u001b[0;32m    <a href='file:///c%3A/Users/gpjos/miniconda3/envs/stats_anal/lib/site-packages/usb/backend/libusb1.py?line=834'>835</a>\u001b[0m \u001b[39m@methodtrace\u001b[39m(_logger)\n\u001b[0;32m    <a href='file:///c%3A/Users/gpjos/miniconda3/envs/stats_anal/lib/site-packages/usb/backend/libusb1.py?line=835'>836</a>\u001b[0m \u001b[39mdef\u001b[39;00m \u001b[39mbulk_write\u001b[39m(\u001b[39mself\u001b[39m, dev_handle, ep, intf, data, timeout):\n\u001b[1;32m--> <a href='file:///c%3A/Users/gpjos/miniconda3/envs/stats_anal/lib/site-packages/usb/backend/libusb1.py?line=836'>837</a>\u001b[0m     \u001b[39mreturn\u001b[39;00m \u001b[39mself\u001b[39;49m\u001b[39m.\u001b[39;49m__write(\u001b[39mself\u001b[39;49m\u001b[39m.\u001b[39;49mlib\u001b[39m.\u001b[39;49mlibusb_bulk_transfer,\n\u001b[0;32m    <a href='file:///c%3A/Users/gpjos/miniconda3/envs/stats_anal/lib/site-packages/usb/backend/libusb1.py?line=837'>838</a>\u001b[0m                         dev_handle,\n\u001b[0;32m    <a href='file:///c%3A/Users/gpjos/miniconda3/envs/stats_anal/lib/site-packages/usb/backend/libusb1.py?line=838'>839</a>\u001b[0m                         ep,\n\u001b[0;32m    <a href='file:///c%3A/Users/gpjos/miniconda3/envs/stats_anal/lib/site-packages/usb/backend/libusb1.py?line=839'>840</a>\u001b[0m                         intf,\n\u001b[0;32m    <a href='file:///c%3A/Users/gpjos/miniconda3/envs/stats_anal/lib/site-packages/usb/backend/libusb1.py?line=840'>841</a>\u001b[0m                         data,\n\u001b[0;32m    <a href='file:///c%3A/Users/gpjos/miniconda3/envs/stats_anal/lib/site-packages/usb/backend/libusb1.py?line=841'>842</a>\u001b[0m                         timeout)\n",
      "File \u001b[1;32mc:\\Users\\gpjos\\miniconda3\\envs\\stats_anal\\lib\\site-packages\\usb\\backend\\libusb1.py:938\u001b[0m, in \u001b[0;36m_LibUSB.__write\u001b[1;34m(self, fn, dev_handle, ep, intf, data, timeout)\u001b[0m\n\u001b[0;32m    <a href='file:///c%3A/Users/gpjos/miniconda3/envs/stats_anal/lib/site-packages/usb/backend/libusb1.py?line=935'>936</a>\u001b[0m \u001b[39m# do not assume LIBUSB_ERROR_TIMEOUT means no I/O.\u001b[39;00m\n\u001b[0;32m    <a href='file:///c%3A/Users/gpjos/miniconda3/envs/stats_anal/lib/site-packages/usb/backend/libusb1.py?line=936'>937</a>\u001b[0m \u001b[39mif\u001b[39;00m \u001b[39mnot\u001b[39;00m (transferred\u001b[39m.\u001b[39mvalue \u001b[39mand\u001b[39;00m retval \u001b[39m==\u001b[39m LIBUSB_ERROR_TIMEOUT):\n\u001b[1;32m--> <a href='file:///c%3A/Users/gpjos/miniconda3/envs/stats_anal/lib/site-packages/usb/backend/libusb1.py?line=937'>938</a>\u001b[0m     _check(retval)\n\u001b[0;32m    <a href='file:///c%3A/Users/gpjos/miniconda3/envs/stats_anal/lib/site-packages/usb/backend/libusb1.py?line=939'>940</a>\u001b[0m \u001b[39mreturn\u001b[39;00m transferred\u001b[39m.\u001b[39mvalue\n",
      "File \u001b[1;32mc:\\Users\\gpjos\\miniconda3\\envs\\stats_anal\\lib\\site-packages\\usb\\backend\\libusb1.py:602\u001b[0m, in \u001b[0;36m_check\u001b[1;34m(ret)\u001b[0m\n\u001b[0;32m    <a href='file:///c%3A/Users/gpjos/miniconda3/envs/stats_anal/lib/site-packages/usb/backend/libusb1.py?line=599'>600</a>\u001b[0m     \u001b[39mraise\u001b[39;00m \u001b[39mNotImplementedError\u001b[39;00m(_strerror(ret))\n\u001b[0;32m    <a href='file:///c%3A/Users/gpjos/miniconda3/envs/stats_anal/lib/site-packages/usb/backend/libusb1.py?line=600'>601</a>\u001b[0m \u001b[39melif\u001b[39;00m ret \u001b[39m==\u001b[39m LIBUSB_ERROR_TIMEOUT:\n\u001b[1;32m--> <a href='file:///c%3A/Users/gpjos/miniconda3/envs/stats_anal/lib/site-packages/usb/backend/libusb1.py?line=601'>602</a>\u001b[0m     \u001b[39mraise\u001b[39;00m USBTimeoutError(_strerror(ret), ret, _libusb_errno[ret])\n\u001b[0;32m    <a href='file:///c%3A/Users/gpjos/miniconda3/envs/stats_anal/lib/site-packages/usb/backend/libusb1.py?line=602'>603</a>\u001b[0m \u001b[39melse\u001b[39;00m:\n\u001b[0;32m    <a href='file:///c%3A/Users/gpjos/miniconda3/envs/stats_anal/lib/site-packages/usb/backend/libusb1.py?line=603'>604</a>\u001b[0m     \u001b[39mraise\u001b[39;00m USBError(_strerror(ret), ret, _libusb_errno[ret])\n",
      "\u001b[1;31mUSBTimeoutError\u001b[0m: [Errno 10060] Operation timed out"
     ]
    }
   ],
   "source": [
    "viper._write_and_read(t)"
   ]
  },
  {
   "cell_type": "code",
   "execution_count": 13,
   "metadata": {},
   "outputs": [
    {
     "ename": "USBTimeoutError",
     "evalue": "[Errno 10060] Operation timed out",
     "output_type": "error",
     "traceback": [
      "\u001b[1;31m---------------------------------------------------------------------------\u001b[0m",
      "\u001b[1;31mUSBTimeoutError\u001b[0m                           Traceback (most recent call last)",
      "\u001b[1;32mc:\\Users\\gpjos\\Documents\\git\\ViperTerminal\\pyper.ipynb Cell 3'\u001b[0m in \u001b[0;36m<module>\u001b[1;34m\u001b[0m\n\u001b[1;32m----> <a href='vscode-notebook-cell:/c%3A/Users/gpjos/Documents/git/ViperTerminal/pyper.ipynb#ch0000012?line=0'>1</a>\u001b[0m viper\u001b[39m.\u001b[39;49mdev\u001b[39m.\u001b[39;49mread(\u001b[39m0x02\u001b[39;49m, viper\u001b[39m.\u001b[39;49mconf[\u001b[39m'\u001b[39;49m\u001b[39mmax_size\u001b[39;49m\u001b[39m'\u001b[39;49m], \u001b[39m200\u001b[39;49m)\n",
      "File \u001b[1;32mc:\\Users\\gpjos\\miniconda3\\envs\\stats_anal\\lib\\site-packages\\usb\\core.py:1029\u001b[0m, in \u001b[0;36mDevice.read\u001b[1;34m(self, endpoint, size_or_buffer, timeout)\u001b[0m\n\u001b[0;32m   <a href='file:///c%3A/Users/gpjos/miniconda3/envs/stats_anal/lib/site-packages/usb/core.py?line=1025'>1026</a>\u001b[0m \u001b[39melse\u001b[39;00m: \u001b[39m# here we consider it is a integer\u001b[39;00m\n\u001b[0;32m   <a href='file:///c%3A/Users/gpjos/miniconda3/envs/stats_anal/lib/site-packages/usb/core.py?line=1026'>1027</a>\u001b[0m     buff \u001b[39m=\u001b[39m util\u001b[39m.\u001b[39mcreate_buffer(size_or_buffer)\n\u001b[1;32m-> <a href='file:///c%3A/Users/gpjos/miniconda3/envs/stats_anal/lib/site-packages/usb/core.py?line=1028'>1029</a>\u001b[0m ret \u001b[39m=\u001b[39m fn(\n\u001b[0;32m   <a href='file:///c%3A/Users/gpjos/miniconda3/envs/stats_anal/lib/site-packages/usb/core.py?line=1029'>1030</a>\u001b[0m         \u001b[39mself\u001b[39;49m\u001b[39m.\u001b[39;49m_ctx\u001b[39m.\u001b[39;49mhandle,\n\u001b[0;32m   <a href='file:///c%3A/Users/gpjos/miniconda3/envs/stats_anal/lib/site-packages/usb/core.py?line=1030'>1031</a>\u001b[0m         ep\u001b[39m.\u001b[39;49mbEndpointAddress,\n\u001b[0;32m   <a href='file:///c%3A/Users/gpjos/miniconda3/envs/stats_anal/lib/site-packages/usb/core.py?line=1031'>1032</a>\u001b[0m         intf\u001b[39m.\u001b[39;49mbInterfaceNumber,\n\u001b[0;32m   <a href='file:///c%3A/Users/gpjos/miniconda3/envs/stats_anal/lib/site-packages/usb/core.py?line=1032'>1033</a>\u001b[0m         buff,\n\u001b[0;32m   <a href='file:///c%3A/Users/gpjos/miniconda3/envs/stats_anal/lib/site-packages/usb/core.py?line=1033'>1034</a>\u001b[0m         \u001b[39mself\u001b[39;49m\u001b[39m.\u001b[39;49m__get_timeout(timeout))\n\u001b[0;32m   <a href='file:///c%3A/Users/gpjos/miniconda3/envs/stats_anal/lib/site-packages/usb/core.py?line=1035'>1036</a>\u001b[0m \u001b[39mif\u001b[39;00m \u001b[39misinstance\u001b[39m(size_or_buffer, array\u001b[39m.\u001b[39marray):\n\u001b[0;32m   <a href='file:///c%3A/Users/gpjos/miniconda3/envs/stats_anal/lib/site-packages/usb/core.py?line=1036'>1037</a>\u001b[0m     \u001b[39mreturn\u001b[39;00m ret\n",
      "File \u001b[1;32mc:\\Users\\gpjos\\miniconda3\\envs\\stats_anal\\lib\\site-packages\\usb\\backend\\libusb1.py:846\u001b[0m, in \u001b[0;36m_LibUSB.bulk_read\u001b[1;34m(self, dev_handle, ep, intf, buff, timeout)\u001b[0m\n\u001b[0;32m    <a href='file:///c%3A/Users/gpjos/miniconda3/envs/stats_anal/lib/site-packages/usb/backend/libusb1.py?line=843'>844</a>\u001b[0m \u001b[39m@methodtrace\u001b[39m(_logger)\n\u001b[0;32m    <a href='file:///c%3A/Users/gpjos/miniconda3/envs/stats_anal/lib/site-packages/usb/backend/libusb1.py?line=844'>845</a>\u001b[0m \u001b[39mdef\u001b[39;00m \u001b[39mbulk_read\u001b[39m(\u001b[39mself\u001b[39m, dev_handle, ep, intf, buff, timeout):\n\u001b[1;32m--> <a href='file:///c%3A/Users/gpjos/miniconda3/envs/stats_anal/lib/site-packages/usb/backend/libusb1.py?line=845'>846</a>\u001b[0m     \u001b[39mreturn\u001b[39;00m \u001b[39mself\u001b[39;49m\u001b[39m.\u001b[39;49m__read(\u001b[39mself\u001b[39;49m\u001b[39m.\u001b[39;49mlib\u001b[39m.\u001b[39;49mlibusb_bulk_transfer,\n\u001b[0;32m    <a href='file:///c%3A/Users/gpjos/miniconda3/envs/stats_anal/lib/site-packages/usb/backend/libusb1.py?line=846'>847</a>\u001b[0m                        dev_handle,\n\u001b[0;32m    <a href='file:///c%3A/Users/gpjos/miniconda3/envs/stats_anal/lib/site-packages/usb/backend/libusb1.py?line=847'>848</a>\u001b[0m                        ep,\n\u001b[0;32m    <a href='file:///c%3A/Users/gpjos/miniconda3/envs/stats_anal/lib/site-packages/usb/backend/libusb1.py?line=848'>849</a>\u001b[0m                        intf,\n\u001b[0;32m    <a href='file:///c%3A/Users/gpjos/miniconda3/envs/stats_anal/lib/site-packages/usb/backend/libusb1.py?line=849'>850</a>\u001b[0m                        buff,\n\u001b[0;32m    <a href='file:///c%3A/Users/gpjos/miniconda3/envs/stats_anal/lib/site-packages/usb/backend/libusb1.py?line=850'>851</a>\u001b[0m                        timeout)\n",
      "File \u001b[1;32mc:\\Users\\gpjos\\miniconda3\\envs\\stats_anal\\lib\\site-packages\\usb\\backend\\libusb1.py:954\u001b[0m, in \u001b[0;36m_LibUSB.__read\u001b[1;34m(self, fn, dev_handle, ep, intf, buff, timeout)\u001b[0m\n\u001b[0;32m    <a href='file:///c%3A/Users/gpjos/miniconda3/envs/stats_anal/lib/site-packages/usb/backend/libusb1.py?line=951'>952</a>\u001b[0m \u001b[39m# do not assume LIBUSB_ERROR_TIMEOUT means no I/O.\u001b[39;00m\n\u001b[0;32m    <a href='file:///c%3A/Users/gpjos/miniconda3/envs/stats_anal/lib/site-packages/usb/backend/libusb1.py?line=952'>953</a>\u001b[0m \u001b[39mif\u001b[39;00m \u001b[39mnot\u001b[39;00m (transferred\u001b[39m.\u001b[39mvalue \u001b[39mand\u001b[39;00m retval \u001b[39m==\u001b[39m LIBUSB_ERROR_TIMEOUT):\n\u001b[1;32m--> <a href='file:///c%3A/Users/gpjos/miniconda3/envs/stats_anal/lib/site-packages/usb/backend/libusb1.py?line=953'>954</a>\u001b[0m     _check(retval)\n\u001b[0;32m    <a href='file:///c%3A/Users/gpjos/miniconda3/envs/stats_anal/lib/site-packages/usb/backend/libusb1.py?line=954'>955</a>\u001b[0m \u001b[39mreturn\u001b[39;00m transferred\u001b[39m.\u001b[39mvalue\n",
      "File \u001b[1;32mc:\\Users\\gpjos\\miniconda3\\envs\\stats_anal\\lib\\site-packages\\usb\\backend\\libusb1.py:602\u001b[0m, in \u001b[0;36m_check\u001b[1;34m(ret)\u001b[0m\n\u001b[0;32m    <a href='file:///c%3A/Users/gpjos/miniconda3/envs/stats_anal/lib/site-packages/usb/backend/libusb1.py?line=599'>600</a>\u001b[0m     \u001b[39mraise\u001b[39;00m \u001b[39mNotImplementedError\u001b[39;00m(_strerror(ret))\n\u001b[0;32m    <a href='file:///c%3A/Users/gpjos/miniconda3/envs/stats_anal/lib/site-packages/usb/backend/libusb1.py?line=600'>601</a>\u001b[0m \u001b[39melif\u001b[39;00m ret \u001b[39m==\u001b[39m LIBUSB_ERROR_TIMEOUT:\n\u001b[1;32m--> <a href='file:///c%3A/Users/gpjos/miniconda3/envs/stats_anal/lib/site-packages/usb/backend/libusb1.py?line=601'>602</a>\u001b[0m     \u001b[39mraise\u001b[39;00m USBTimeoutError(_strerror(ret), ret, _libusb_errno[ret])\n\u001b[0;32m    <a href='file:///c%3A/Users/gpjos/miniconda3/envs/stats_anal/lib/site-packages/usb/backend/libusb1.py?line=602'>603</a>\u001b[0m \u001b[39melse\u001b[39;00m:\n\u001b[0;32m    <a href='file:///c%3A/Users/gpjos/miniconda3/envs/stats_anal/lib/site-packages/usb/backend/libusb1.py?line=603'>604</a>\u001b[0m     \u001b[39mraise\u001b[39;00m USBError(_strerror(ret), ret, _libusb_errno[ret])\n",
      "\u001b[1;31mUSBTimeoutError\u001b[0m: [Errno 10060] Operation timed out"
     ]
    }
   ],
   "source": [
    "viper.dev.read(0x02, viper.conf['max_size'], 200)"
   ]
  },
  {
   "cell_type": "code",
   "execution_count": 3,
   "metadata": {},
   "outputs": [
    {
     "ename": "error",
     "evalue": "required argument is not an integer",
     "output_type": "error",
     "traceback": [
      "\u001b[1;31m---------------------------------------------------------------------------\u001b[0m",
      "\u001b[1;31merror\u001b[0m                                     Traceback (most recent call last)",
      "\u001b[1;32mc:\\Users\\gpjos\\Documents\\git\\ViperTerminal\\pyper.ipynb Cell 5'\u001b[0m in \u001b[0;36m<module>\u001b[1;34m\u001b[0m\n\u001b[1;32m----> <a href='vscode-notebook-cell:/c%3A/Users/gpjos/Documents/git/ViperTerminal/pyper.ipynb#ch0000020?line=0'>1</a>\u001b[0m viper\u001b[39m.\u001b[39;49mget_single_pno(pno_mode\u001b[39m=\u001b[39;49m\u001b[39m\"\u001b[39;49m\u001b[39mstandard\u001b[39;49m\u001b[39m\"\u001b[39;49m)\n",
      "File \u001b[1;32mc:\\Users\\gpjos\\Documents\\git\\ViperTerminal\\pyper\\viper_interface\\viper_classes.py:166\u001b[0m, in \u001b[0;36mPolhemusViper.get_single_pno\u001b[1;34m(self, pno_mode)\u001b[0m\n\u001b[0;32m    <a href='file:///c%3A/Users/gpjos/Documents/git/ViperTerminal/pyper/viper_interface/viper_classes.py?line=152'>153</a>\u001b[0m \u001b[39mdef\u001b[39;00m \u001b[39mget_single_pno\u001b[39m(\u001b[39mself\u001b[39m, pno_mode\u001b[39m=\u001b[39m\u001b[39m\"\u001b[39m\u001b[39mstandard\u001b[39m\u001b[39m\"\u001b[39m):\n\u001b[0;32m    <a href='file:///c%3A/Users/gpjos/Documents/git/ViperTerminal/pyper/viper_interface/viper_classes.py?line=153'>154</a>\u001b[0m     \u001b[39m\"\"\"\u001b[39;00m\n\u001b[0;32m    <a href='file:///c%3A/Users/gpjos/Documents/git/ViperTerminal/pyper/viper_interface/viper_classes.py?line=154'>155</a>\u001b[0m \u001b[39m    Function that reads a single PNO from Polhemus Viper and prints results as df\u001b[39;00m\n\u001b[0;32m    <a href='file:///c%3A/Users/gpjos/Documents/git/ViperTerminal/pyper/viper_interface/viper_classes.py?line=155'>156</a>\u001b[0m \n\u001b[1;32m   (...)\u001b[0m\n\u001b[0;32m    <a href='file:///c%3A/Users/gpjos/Documents/git/ViperTerminal/pyper/viper_interface/viper_classes.py?line=163'>164</a>\u001b[0m \u001b[39m    df: pd.DataFrame\u001b[39;00m\n\u001b[0;32m    <a href='file:///c%3A/Users/gpjos/Documents/git/ViperTerminal/pyper/viper_interface/viper_classes.py?line=164'>165</a>\u001b[0m \u001b[39m    \"\"\"\u001b[39;00m\n\u001b[1;32m--> <a href='file:///c%3A/Users/gpjos/Documents/git/ViperTerminal/pyper/viper_interface/viper_classes.py?line=165'>166</a>\u001b[0m     msg \u001b[39m=\u001b[39m \u001b[39mself\u001b[39;49m\u001b[39m.\u001b[39;49m_construct_message(\n\u001b[0;32m    <a href='file:///c%3A/Users/gpjos/Documents/git/ViperTerminal/pyper/viper_interface/viper_classes.py?line=166'>167</a>\u001b[0m         viper_command\u001b[39m=\u001b[39;49m\u001b[39m\"\u001b[39;49m\u001b[39mcmd_single_pno\u001b[39;49m\u001b[39m\"\u001b[39;49m, cmd_action\u001b[39m=\u001b[39;49m\u001b[39m\"\u001b[39;49m\u001b[39mcmd_action_get\u001b[39;49m\u001b[39m\"\u001b[39;49m, arg2\u001b[39m=\u001b[39;49mpno_mode\n\u001b[0;32m    <a href='file:///c%3A/Users/gpjos/Documents/git/ViperTerminal/pyper/viper_interface/viper_classes.py?line=167'>168</a>\u001b[0m     )\n\u001b[0;32m    <a href='file:///c%3A/Users/gpjos/Documents/git/ViperTerminal/pyper/viper_interface/viper_classes.py?line=168'>169</a>\u001b[0m     resp \u001b[39m=\u001b[39m \u001b[39mself\u001b[39m\u001b[39m.\u001b[39m_write_and_read(msg)\n\u001b[0;32m    <a href='file:///c%3A/Users/gpjos/Documents/git/ViperTerminal/pyper/viper_interface/viper_classes.py?line=170'>171</a>\u001b[0m     df \u001b[39m=\u001b[39m extract_data_from_frame(resp)\n",
      "File \u001b[1;32mc:\\Users\\gpjos\\Documents\\git\\ViperTerminal\\pyper\\viper_interface\\viper_classes.py:110\u001b[0m, in \u001b[0;36mPolhemusViper._construct_message\u001b[1;34m(self, viper_command, cmd_action, arg1, arg2, payload)\u001b[0m\n\u001b[0;32m     <a href='file:///c%3A/Users/gpjos/Documents/git/ViperTerminal/pyper/viper_interface/viper_classes.py?line=98'>99</a>\u001b[0m     payload \u001b[39m=\u001b[39m \u001b[39mself\u001b[39m\u001b[39m.\u001b[39mconf[\u001b[39m\"\u001b[39m\u001b[39mcmd_viper\u001b[39m\u001b[39m\"\u001b[39m][viper_command][\u001b[39m\"\u001b[39m\u001b[39mpayload\u001b[39m\u001b[39m\"\u001b[39m][payload]\n\u001b[0;32m    <a href='file:///c%3A/Users/gpjos/Documents/git/ViperTerminal/pyper/viper_interface/viper_classes.py?line=99'>100</a>\u001b[0m     cmd_frame \u001b[39m=\u001b[39m [\n\u001b[0;32m    <a href='file:///c%3A/Users/gpjos/Documents/git/ViperTerminal/pyper/viper_interface/viper_classes.py?line=100'>101</a>\u001b[0m         \u001b[39mself\u001b[39m\u001b[39m.\u001b[39mseuid,\n\u001b[0;32m    <a href='file:///c%3A/Users/gpjos/Documents/git/ViperTerminal/pyper/viper_interface/viper_classes.py?line=101'>102</a>\u001b[0m         viper_cmd,\n\u001b[1;32m   (...)\u001b[0m\n\u001b[0;32m    <a href='file:///c%3A/Users/gpjos/Documents/git/ViperTerminal/pyper/viper_interface/viper_classes.py?line=106'>107</a>\u001b[0m         crc_size,\n\u001b[0;32m    <a href='file:///c%3A/Users/gpjos/Documents/git/ViperTerminal/pyper/viper_interface/viper_classes.py?line=107'>108</a>\u001b[0m     ]\n\u001b[1;32m--> <a href='file:///c%3A/Users/gpjos/Documents/git/ViperTerminal/pyper/viper_interface/viper_classes.py?line=109'>110</a>\u001b[0m cmd_packed \u001b[39m=\u001b[39m struct\u001b[39m.\u001b[39;49mpack(\u001b[39mf\u001b[39;49m\u001b[39m\"\u001b[39;49m\u001b[39m<\u001b[39;49m\u001b[39m{\u001b[39;49;00m\u001b[39mlen\u001b[39;49m(cmd_frame)\u001b[39m}\u001b[39;49;00m\u001b[39mI\u001b[39;49m\u001b[39m\"\u001b[39;49m, \u001b[39m*\u001b[39;49mcmd_frame)\n\u001b[0;32m    <a href='file:///c%3A/Users/gpjos/Documents/git/ViperTerminal/pyper/viper_interface/viper_classes.py?line=110'>111</a>\u001b[0m cmd_size \u001b[39m=\u001b[39m \u001b[39mlen\u001b[39m(cmd_packed)  \u001b[39m# Calculate the msg length\u001b[39;00m\n\u001b[0;32m    <a href='file:///c%3A/Users/gpjos/Documents/git/ViperTerminal/pyper/viper_interface/viper_classes.py?line=111'>112</a>\u001b[0m cmd_size_bytes \u001b[39m=\u001b[39m struct\u001b[39m.\u001b[39mpack(\u001b[39mf\u001b[39m\u001b[39m\"\u001b[39m\u001b[39m<I\u001b[39m\u001b[39m\"\u001b[39m, cmd_size)\n",
      "\u001b[1;31merror\u001b[0m: required argument is not an integer"
     ]
    }
   ],
   "source": []
  },
  {
   "cell_type": "code",
   "execution_count": 4,
   "metadata": {},
   "outputs": [
    {
     "ename": "AttributeError",
     "evalue": "'PolhemusViper' object has no attribute 'cmd_viper'",
     "output_type": "error",
     "traceback": [
      "\u001b[1;31m---------------------------------------------------------------------------\u001b[0m",
      "\u001b[1;31mAttributeError\u001b[0m                            Traceback (most recent call last)",
      "\u001b[1;32mc:\\Users\\gpjos\\Documents\\git\\ViperTerminal\\pyper.ipynb Cell 4'\u001b[0m in \u001b[0;36m<module>\u001b[1;34m\u001b[0m\n\u001b[1;32m----> <a href='vscode-notebook-cell:/c%3A/Users/gpjos/Documents/git/ViperTerminal/pyper.ipynb#ch0000018?line=0'>1</a>\u001b[0m viper\u001b[39m.\u001b[39;49mstart_continuous(viper\u001b[39m.\u001b[39;49mdev, viper\u001b[39m.\u001b[39;49mendpoint, pno_mode\u001b[39m=\u001b[39;49m\u001b[39m\"\u001b[39;49m\u001b[39mstandard\u001b[39;49m\u001b[39m\"\u001b[39;49m, framecount\u001b[39m=\u001b[39;49m\u001b[39m\"\u001b[39;49m\u001b[39mreset\u001b[39;49m\u001b[39m\"\u001b[39;49m)\n",
      "File \u001b[1;32mc:\\Users\\gpjos\\Documents\\git\\ViperTerminal\\pyper\\viper_interface\\viper_classes.py:179\u001b[0m, in \u001b[0;36mPolhemusViper.start_continuous\u001b[1;34m(self, dev, ep, pno_mode, framecount)\u001b[0m\n\u001b[0;32m    <a href='file:///c%3A/Users/gpjos/Documents/git/ViperTerminal/pyper/viper_interface/viper_classes.py?line=176'>177</a>\u001b[0m preamble \u001b[39m=\u001b[39m \u001b[39mself\u001b[39m\u001b[39m.\u001b[39mviper_command_preamble\n\u001b[0;32m    <a href='file:///c%3A/Users/gpjos/Documents/git/ViperTerminal/pyper/viper_interface/viper_classes.py?line=177'>178</a>\u001b[0m seuid \u001b[39m=\u001b[39m \u001b[39m0\u001b[39m\n\u001b[1;32m--> <a href='file:///c%3A/Users/gpjos/Documents/git/ViperTerminal/pyper/viper_interface/viper_classes.py?line=178'>179</a>\u001b[0m cmd \u001b[39m=\u001b[39m \u001b[39mself\u001b[39;49m\u001b[39m.\u001b[39;49mcmd_viper[\u001b[39m\"\u001b[39m\u001b[39mcmd_continuous_pno\u001b[39m\u001b[39m\"\u001b[39m]\n\u001b[0;32m    <a href='file:///c%3A/Users/gpjos/Documents/git/ViperTerminal/pyper/viper_interface/viper_classes.py?line=179'>180</a>\u001b[0m cmd_action \u001b[39m=\u001b[39m \u001b[39mself\u001b[39m\u001b[39m.\u001b[39mcmd_actions[\u001b[39m\"\u001b[39m\u001b[39mcmd_action_set\u001b[39m\u001b[39m\"\u001b[39m]\n\u001b[0;32m    <a href='file:///c%3A/Users/gpjos/Documents/git/ViperTerminal/pyper/viper_interface/viper_classes.py?line=180'>181</a>\u001b[0m arg1 \u001b[39m=\u001b[39m \u001b[39m0\u001b[39m\n",
      "\u001b[1;31mAttributeError\u001b[0m: 'PolhemusViper' object has no attribute 'cmd_viper'"
     ]
    }
   ],
   "source": [
    "\n",
    "viper.start_continuous(viper.dev, viper.endpoint, pno_mode=\"standard\", framecount=\"reset\")"
   ]
  },
  {
   "cell_type": "code",
   "execution_count": 8,
   "metadata": {},
   "outputs": [
    {
     "name": "stdout",
     "output_type": "stream",
     "text": [
      "[86, 80, 82, 67, 24, 0, 0, 0, 0, 0, 0, 0, 19, 0, 0, 0, 3, 0, 0, 0, 0, 0, 0, 0, 0, 0, 0, 0, 103, 246, 0, 0]\n"
     ]
    }
   ],
   "source": [
    "viper.stop_continuous(dev, ep)"
   ]
  },
  {
   "cell_type": "code",
   "execution_count": 7,
   "metadata": {},
   "outputs": [],
   "source": [
    "stop_con = Event()\n",
    "pool = ThreadPool(processes=1)\n",
    "async_result = pool.apply_async(viper.read_continuous, (dev, ep, stop_con))\n",
    "\n",
    "time.sleep(30)\n",
    "\n",
    "\n",
    "stop_con.set()\n",
    "df = async_result.get()\n",
    "# df = Thread(target=viper.read_continuous, args=(dev, ep, stop_con), daemon=True).start()"
   ]
  },
  {
   "cell_type": "code",
   "execution_count": 8,
   "metadata": {},
   "outputs": [],
   "source": [
    "df1 = pd.DataFrame()\n",
    "for i in range(len(df)):\n",
    "    df2 = extract_data_from_frame_continuous(df[i])\n",
    "    df1 = pd.concat([df1, df2], ignore_index=True)\n",
    "# df1[30:100]"
   ]
  },
  {
   "cell_type": "code",
   "execution_count": 11,
   "metadata": {},
   "outputs": [
    {
     "data": {
      "text/html": [
       "<div>\n",
       "<style scoped>\n",
       "    .dataframe tbody tr th:only-of-type {\n",
       "        vertical-align: middle;\n",
       "    }\n",
       "\n",
       "    .dataframe tbody tr th {\n",
       "        vertical-align: top;\n",
       "    }\n",
       "\n",
       "    .dataframe thead th {\n",
       "        text-align: right;\n",
       "    }\n",
       "</style>\n",
       "<table border=\"1\" class=\"dataframe\">\n",
       "  <thead>\n",
       "    <tr style=\"text-align: right;\">\n",
       "      <th></th>\n",
       "      <th>sensor_n</th>\n",
       "      <th>frames</th>\n",
       "      <th>time</th>\n",
       "      <th>x</th>\n",
       "      <th>y</th>\n",
       "      <th>z</th>\n",
       "      <th>azimuth</th>\n",
       "      <th>elevation</th>\n",
       "      <th>roll</th>\n",
       "    </tr>\n",
       "  </thead>\n",
       "  <tbody>\n",
       "    <tr>\n",
       "      <th>5000</th>\n",
       "      <td>1</td>\n",
       "      <td>22109</td>\n",
       "      <td>2022-05-06T12:44:33.770768</td>\n",
       "      <td>18.188828</td>\n",
       "      <td>5.734060</td>\n",
       "      <td>-3.234791</td>\n",
       "      <td>110.873169</td>\n",
       "      <td>9.454902</td>\n",
       "      <td>80.842033</td>\n",
       "    </tr>\n",
       "    <tr>\n",
       "      <th>5001</th>\n",
       "      <td>2</td>\n",
       "      <td>22109</td>\n",
       "      <td>2022-05-06T12:44:33.770768</td>\n",
       "      <td>42.936878</td>\n",
       "      <td>-37.987923</td>\n",
       "      <td>-1.470918</td>\n",
       "      <td>84.442154</td>\n",
       "      <td>6.991598</td>\n",
       "      <td>165.083130</td>\n",
       "    </tr>\n",
       "    <tr>\n",
       "      <th>5002</th>\n",
       "      <td>1</td>\n",
       "      <td>22111</td>\n",
       "      <td>2022-05-06T12:44:33.778769</td>\n",
       "      <td>18.188793</td>\n",
       "      <td>5.734065</td>\n",
       "      <td>-3.234854</td>\n",
       "      <td>110.873268</td>\n",
       "      <td>9.454646</td>\n",
       "      <td>80.842506</td>\n",
       "    </tr>\n",
       "    <tr>\n",
       "      <th>5003</th>\n",
       "      <td>2</td>\n",
       "      <td>22111</td>\n",
       "      <td>2022-05-06T12:44:33.778769</td>\n",
       "      <td>42.939579</td>\n",
       "      <td>-37.985188</td>\n",
       "      <td>-1.465786</td>\n",
       "      <td>84.445930</td>\n",
       "      <td>6.998866</td>\n",
       "      <td>165.078491</td>\n",
       "    </tr>\n",
       "    <tr>\n",
       "      <th>5004</th>\n",
       "      <td>1</td>\n",
       "      <td>22113</td>\n",
       "      <td>2022-05-06T12:44:33.788078</td>\n",
       "      <td>18.188763</td>\n",
       "      <td>5.734066</td>\n",
       "      <td>-3.234995</td>\n",
       "      <td>110.873383</td>\n",
       "      <td>9.454167</td>\n",
       "      <td>80.843658</td>\n",
       "    </tr>\n",
       "    <tr>\n",
       "      <th>5005</th>\n",
       "      <td>2</td>\n",
       "      <td>22113</td>\n",
       "      <td>2022-05-06T12:44:33.788078</td>\n",
       "      <td>42.939491</td>\n",
       "      <td>-37.984241</td>\n",
       "      <td>-1.463059</td>\n",
       "      <td>84.444633</td>\n",
       "      <td>7.004036</td>\n",
       "      <td>165.073059</td>\n",
       "    </tr>\n",
       "    <tr>\n",
       "      <th>5006</th>\n",
       "      <td>1</td>\n",
       "      <td>22115</td>\n",
       "      <td>2022-05-06T12:44:33.796227</td>\n",
       "      <td>18.188784</td>\n",
       "      <td>5.734043</td>\n",
       "      <td>-3.234959</td>\n",
       "      <td>110.873276</td>\n",
       "      <td>9.454263</td>\n",
       "      <td>80.843452</td>\n",
       "    </tr>\n",
       "    <tr>\n",
       "      <th>5007</th>\n",
       "      <td>2</td>\n",
       "      <td>22115</td>\n",
       "      <td>2022-05-06T12:44:33.796227</td>\n",
       "      <td>42.937660</td>\n",
       "      <td>-37.986572</td>\n",
       "      <td>-1.470663</td>\n",
       "      <td>84.443726</td>\n",
       "      <td>6.991900</td>\n",
       "      <td>165.084976</td>\n",
       "    </tr>\n",
       "    <tr>\n",
       "      <th>5008</th>\n",
       "      <td>1</td>\n",
       "      <td>22117</td>\n",
       "      <td>2022-05-06T12:44:33.804235</td>\n",
       "      <td>18.188780</td>\n",
       "      <td>5.734065</td>\n",
       "      <td>-3.234906</td>\n",
       "      <td>110.873360</td>\n",
       "      <td>9.454198</td>\n",
       "      <td>80.842957</td>\n",
       "    </tr>\n",
       "    <tr>\n",
       "      <th>5009</th>\n",
       "      <td>2</td>\n",
       "      <td>22117</td>\n",
       "      <td>2022-05-06T12:44:33.804235</td>\n",
       "      <td>42.940128</td>\n",
       "      <td>-37.983795</td>\n",
       "      <td>-1.466336</td>\n",
       "      <td>84.450104</td>\n",
       "      <td>6.998734</td>\n",
       "      <td>165.076157</td>\n",
       "    </tr>\n",
       "    <tr>\n",
       "      <th>5010</th>\n",
       "      <td>1</td>\n",
       "      <td>22119</td>\n",
       "      <td>2022-05-06T12:44:33.813033</td>\n",
       "      <td>18.188778</td>\n",
       "      <td>5.734072</td>\n",
       "      <td>-3.234905</td>\n",
       "      <td>110.873291</td>\n",
       "      <td>9.454196</td>\n",
       "      <td>80.842827</td>\n",
       "    </tr>\n",
       "    <tr>\n",
       "      <th>5011</th>\n",
       "      <td>2</td>\n",
       "      <td>22119</td>\n",
       "      <td>2022-05-06T12:44:33.813033</td>\n",
       "      <td>42.941689</td>\n",
       "      <td>-37.981178</td>\n",
       "      <td>-1.467141</td>\n",
       "      <td>84.455063</td>\n",
       "      <td>6.993984</td>\n",
       "      <td>165.076218</td>\n",
       "    </tr>\n",
       "    <tr>\n",
       "      <th>5012</th>\n",
       "      <td>1</td>\n",
       "      <td>22121</td>\n",
       "      <td>2022-05-06T12:44:33.821230</td>\n",
       "      <td>18.188780</td>\n",
       "      <td>5.734068</td>\n",
       "      <td>-3.234920</td>\n",
       "      <td>110.873352</td>\n",
       "      <td>9.454006</td>\n",
       "      <td>80.842728</td>\n",
       "    </tr>\n",
       "    <tr>\n",
       "      <th>5013</th>\n",
       "      <td>2</td>\n",
       "      <td>22121</td>\n",
       "      <td>2022-05-06T12:44:33.821230</td>\n",
       "      <td>42.936451</td>\n",
       "      <td>-37.987091</td>\n",
       "      <td>-1.476427</td>\n",
       "      <td>84.443481</td>\n",
       "      <td>6.980763</td>\n",
       "      <td>165.096298</td>\n",
       "    </tr>\n",
       "    <tr>\n",
       "      <th>5014</th>\n",
       "      <td>1</td>\n",
       "      <td>22123</td>\n",
       "      <td>2022-05-06T12:44:33.829274</td>\n",
       "      <td>18.188730</td>\n",
       "      <td>5.734137</td>\n",
       "      <td>-3.234962</td>\n",
       "      <td>110.873764</td>\n",
       "      <td>9.454025</td>\n",
       "      <td>80.842781</td>\n",
       "    </tr>\n",
       "    <tr>\n",
       "      <th>5015</th>\n",
       "      <td>2</td>\n",
       "      <td>22123</td>\n",
       "      <td>2022-05-06T12:44:33.829274</td>\n",
       "      <td>42.936676</td>\n",
       "      <td>-37.985149</td>\n",
       "      <td>-1.478844</td>\n",
       "      <td>84.444756</td>\n",
       "      <td>6.980413</td>\n",
       "      <td>165.100601</td>\n",
       "    </tr>\n",
       "    <tr>\n",
       "      <th>5016</th>\n",
       "      <td>1</td>\n",
       "      <td>22125</td>\n",
       "      <td>2022-05-06T12:44:33.837418</td>\n",
       "      <td>18.188725</td>\n",
       "      <td>5.734176</td>\n",
       "      <td>-3.234948</td>\n",
       "      <td>110.873917</td>\n",
       "      <td>9.454287</td>\n",
       "      <td>80.842644</td>\n",
       "    </tr>\n",
       "    <tr>\n",
       "      <th>5017</th>\n",
       "      <td>2</td>\n",
       "      <td>22125</td>\n",
       "      <td>2022-05-06T12:44:33.837418</td>\n",
       "      <td>42.938538</td>\n",
       "      <td>-37.983292</td>\n",
       "      <td>-1.481628</td>\n",
       "      <td>84.449753</td>\n",
       "      <td>6.977829</td>\n",
       "      <td>165.107544</td>\n",
       "    </tr>\n",
       "    <tr>\n",
       "      <th>5018</th>\n",
       "      <td>1</td>\n",
       "      <td>22127</td>\n",
       "      <td>2022-05-06T12:44:33.845741</td>\n",
       "      <td>18.188717</td>\n",
       "      <td>5.734230</td>\n",
       "      <td>-3.234973</td>\n",
       "      <td>110.874214</td>\n",
       "      <td>9.454006</td>\n",
       "      <td>80.842812</td>\n",
       "    </tr>\n",
       "    <tr>\n",
       "      <th>5019</th>\n",
       "      <td>2</td>\n",
       "      <td>22127</td>\n",
       "      <td>2022-05-06T12:44:33.845741</td>\n",
       "      <td>42.938171</td>\n",
       "      <td>-37.983917</td>\n",
       "      <td>-1.483921</td>\n",
       "      <td>84.446182</td>\n",
       "      <td>6.973159</td>\n",
       "      <td>165.110870</td>\n",
       "    </tr>\n",
       "  </tbody>\n",
       "</table>\n",
       "</div>"
      ],
      "text/plain": [
       "      sensor_n  frames                        time          x          y  \\\n",
       "5000         1   22109  2022-05-06T12:44:33.770768  18.188828   5.734060   \n",
       "5001         2   22109  2022-05-06T12:44:33.770768  42.936878 -37.987923   \n",
       "5002         1   22111  2022-05-06T12:44:33.778769  18.188793   5.734065   \n",
       "5003         2   22111  2022-05-06T12:44:33.778769  42.939579 -37.985188   \n",
       "5004         1   22113  2022-05-06T12:44:33.788078  18.188763   5.734066   \n",
       "5005         2   22113  2022-05-06T12:44:33.788078  42.939491 -37.984241   \n",
       "5006         1   22115  2022-05-06T12:44:33.796227  18.188784   5.734043   \n",
       "5007         2   22115  2022-05-06T12:44:33.796227  42.937660 -37.986572   \n",
       "5008         1   22117  2022-05-06T12:44:33.804235  18.188780   5.734065   \n",
       "5009         2   22117  2022-05-06T12:44:33.804235  42.940128 -37.983795   \n",
       "5010         1   22119  2022-05-06T12:44:33.813033  18.188778   5.734072   \n",
       "5011         2   22119  2022-05-06T12:44:33.813033  42.941689 -37.981178   \n",
       "5012         1   22121  2022-05-06T12:44:33.821230  18.188780   5.734068   \n",
       "5013         2   22121  2022-05-06T12:44:33.821230  42.936451 -37.987091   \n",
       "5014         1   22123  2022-05-06T12:44:33.829274  18.188730   5.734137   \n",
       "5015         2   22123  2022-05-06T12:44:33.829274  42.936676 -37.985149   \n",
       "5016         1   22125  2022-05-06T12:44:33.837418  18.188725   5.734176   \n",
       "5017         2   22125  2022-05-06T12:44:33.837418  42.938538 -37.983292   \n",
       "5018         1   22127  2022-05-06T12:44:33.845741  18.188717   5.734230   \n",
       "5019         2   22127  2022-05-06T12:44:33.845741  42.938171 -37.983917   \n",
       "\n",
       "             z     azimuth  elevation        roll  \n",
       "5000 -3.234791  110.873169   9.454902   80.842033  \n",
       "5001 -1.470918   84.442154   6.991598  165.083130  \n",
       "5002 -3.234854  110.873268   9.454646   80.842506  \n",
       "5003 -1.465786   84.445930   6.998866  165.078491  \n",
       "5004 -3.234995  110.873383   9.454167   80.843658  \n",
       "5005 -1.463059   84.444633   7.004036  165.073059  \n",
       "5006 -3.234959  110.873276   9.454263   80.843452  \n",
       "5007 -1.470663   84.443726   6.991900  165.084976  \n",
       "5008 -3.234906  110.873360   9.454198   80.842957  \n",
       "5009 -1.466336   84.450104   6.998734  165.076157  \n",
       "5010 -3.234905  110.873291   9.454196   80.842827  \n",
       "5011 -1.467141   84.455063   6.993984  165.076218  \n",
       "5012 -3.234920  110.873352   9.454006   80.842728  \n",
       "5013 -1.476427   84.443481   6.980763  165.096298  \n",
       "5014 -3.234962  110.873764   9.454025   80.842781  \n",
       "5015 -1.478844   84.444756   6.980413  165.100601  \n",
       "5016 -3.234948  110.873917   9.454287   80.842644  \n",
       "5017 -1.481628   84.449753   6.977829  165.107544  \n",
       "5018 -3.234973  110.874214   9.454006   80.842812  \n",
       "5019 -1.483921   84.446182   6.973159  165.110870  "
      ]
     },
     "execution_count": 11,
     "metadata": {},
     "output_type": "execute_result"
    }
   ],
   "source": [
    "df1[5000:5020]"
   ]
  },
  {
   "cell_type": "code",
   "execution_count": 3,
   "metadata": {},
   "outputs": [
    {
     "ename": "error",
     "evalue": "unpack requires a buffer of 4 bytes",
     "output_type": "error",
     "traceback": [
      "\u001b[1;31m---------------------------------------------------------------------------\u001b[0m",
      "\u001b[1;31merror\u001b[0m                                     Traceback (most recent call last)",
      "\u001b[1;32mc:\\Users\\gpjos\\Documents\\git\\ViperTerminal\\pyper.ipynb Cell 3'\u001b[0m in \u001b[0;36m<module>\u001b[1;34m\u001b[0m\n\u001b[1;32m----> <a href='vscode-notebook-cell:/c%3A/Users/gpjos/Documents/git/ViperTerminal/pyper.ipynb#ch0000002?line=0'>1</a>\u001b[0m viper\u001b[39m.\u001b[39;49mget_single_pno(dev\u001b[39m=\u001b[39;49mdev, ep\u001b[39m=\u001b[39;49mep, pno_mode\u001b[39m=\u001b[39;49m\u001b[39m\"\u001b[39;49m\u001b[39mstandard\u001b[39;49m\u001b[39m\"\u001b[39;49m)\n",
      "File \u001b[1;32mc:\\Users\\gpjos\\Documents\\git\\ViperTerminal\\pyper\\viper_interface\\viper_classes.py:123\u001b[0m, in \u001b[0;36mPolhemusViper.get_single_pno\u001b[1;34m(self, dev, ep, pno_mode)\u001b[0m\n\u001b[0;32m    <a href='file:///c%3A/Users/gpjos/Documents/git/ViperTerminal/pyper/viper_interface/viper_classes.py?line=120'>121</a>\u001b[0m     \u001b[39mprint\u001b[39m(\u001b[39m\"\u001b[39m\u001b[39mCRC16 error\u001b[39m\u001b[39m\"\u001b[39m)\n\u001b[0;32m    <a href='file:///c%3A/Users/gpjos/Documents/git/ViperTerminal/pyper/viper_interface/viper_classes.py?line=121'>122</a>\u001b[0m \u001b[39melse\u001b[39;00m:\n\u001b[1;32m--> <a href='file:///c%3A/Users/gpjos/Documents/git/ViperTerminal/pyper/viper_interface/viper_classes.py?line=122'>123</a>\u001b[0m     df \u001b[39m=\u001b[39m extract_data_from_frame(resp)\n\u001b[0;32m    <a href='file:///c%3A/Users/gpjos/Documents/git/ViperTerminal/pyper/viper_interface/viper_classes.py?line=123'>124</a>\u001b[0m \u001b[39mreturn\u001b[39;00m df\n",
      "File \u001b[1;32mc:\\Users\\gpjos\\Documents\\git\\ViperTerminal\\pyper\\io\\io_utils.py:34\u001b[0m, in \u001b[0;36mextract_data_from_frame\u001b[1;34m(frame)\u001b[0m\n\u001b[0;32m     <a href='file:///c%3A/Users/gpjos/Documents/git/ViperTerminal/pyper/io/io_utils.py?line=31'>32</a>\u001b[0m in_list\u001b[39m.\u001b[39mappend(intlist_to_float(frame[start_index \u001b[39m+\u001b[39m \u001b[39m4\u001b[39m : start_index \u001b[39m+\u001b[39m \u001b[39m8\u001b[39m]))\n\u001b[0;32m     <a href='file:///c%3A/Users/gpjos/Documents/git/ViperTerminal/pyper/io/io_utils.py?line=32'>33</a>\u001b[0m in_list\u001b[39m.\u001b[39mappend(intlist_to_float(frame[start_index \u001b[39m+\u001b[39m \u001b[39m8\u001b[39m : start_index \u001b[39m+\u001b[39m \u001b[39m12\u001b[39m]))\n\u001b[1;32m---> <a href='file:///c%3A/Users/gpjos/Documents/git/ViperTerminal/pyper/io/io_utils.py?line=33'>34</a>\u001b[0m in_list\u001b[39m.\u001b[39mappend(intlist_to_float(frame[start_index \u001b[39m+\u001b[39;49m \u001b[39m12\u001b[39;49m : start_index \u001b[39m+\u001b[39;49m \u001b[39m16\u001b[39;49m]))\n\u001b[0;32m     <a href='file:///c%3A/Users/gpjos/Documents/git/ViperTerminal/pyper/io/io_utils.py?line=34'>35</a>\u001b[0m in_list\u001b[39m.\u001b[39mappend(intlist_to_float(frame[start_index \u001b[39m+\u001b[39m \u001b[39m16\u001b[39m : start_index \u001b[39m+\u001b[39m \u001b[39m20\u001b[39m]))\n\u001b[0;32m     <a href='file:///c%3A/Users/gpjos/Documents/git/ViperTerminal/pyper/io/io_utils.py?line=35'>36</a>\u001b[0m in_list\u001b[39m.\u001b[39mappend(intlist_to_float(frame[start_index \u001b[39m+\u001b[39m \u001b[39m20\u001b[39m : start_index \u001b[39m+\u001b[39m \u001b[39m24\u001b[39m]))\n",
      "File \u001b[1;32mc:\\Users\\gpjos\\Documents\\git\\ViperTerminal\\pyper\\io\\io_utils.py:13\u001b[0m, in \u001b[0;36mintlist_to_float\u001b[1;34m(int_list)\u001b[0m\n\u001b[0;32m     <a href='file:///c%3A/Users/gpjos/Documents/git/ViperTerminal/pyper/io/io_utils.py?line=10'>11</a>\u001b[0m \u001b[39mdef\u001b[39;00m \u001b[39mintlist_to_float\u001b[39m(int_list):\n\u001b[0;32m     <a href='file:///c%3A/Users/gpjos/Documents/git/ViperTerminal/pyper/io/io_utils.py?line=11'>12</a>\u001b[0m     h \u001b[39m=\u001b[39m \u001b[39m\"\u001b[39m\u001b[39m\"\u001b[39m\u001b[39m.\u001b[39mjoin(\u001b[39mf\u001b[39m\u001b[39m\"\u001b[39m\u001b[39m{\u001b[39;00mi\u001b[39m:\u001b[39;00m\u001b[39m02x\u001b[39m\u001b[39m}\u001b[39;00m\u001b[39m\"\u001b[39m \u001b[39mfor\u001b[39;00m i \u001b[39min\u001b[39;00m int_list)\n\u001b[1;32m---> <a href='file:///c%3A/Users/gpjos/Documents/git/ViperTerminal/pyper/io/io_utils.py?line=12'>13</a>\u001b[0m     \u001b[39mreturn\u001b[39;00m struct\u001b[39m.\u001b[39;49munpack(\u001b[39m\"\u001b[39;49m\u001b[39m<f\u001b[39;49m\u001b[39m\"\u001b[39;49m, \u001b[39mbytes\u001b[39;49m\u001b[39m.\u001b[39;49mfromhex(h))[\u001b[39m0\u001b[39m]\n",
      "\u001b[1;31merror\u001b[0m: unpack requires a buffer of 4 bytes"
     ]
    }
   ],
   "source": [
    "viper.get_single_pno(dev=dev, ep=ep, pno_mode=\"standard\")"
   ]
  },
  {
   "cell_type": "code",
   "execution_count": 6,
   "metadata": {},
   "outputs": [
    {
     "name": "stdout",
     "output_type": "stream",
     "text": [
      "[86, 80, 82, 67, 24, 0, 0, 0, 0, 0, 0, 0, 19, 0, 0, 0, 3, 0, 0, 0, 0, 0, 0, 0, 0, 0, 0, 0, 103, 246, 0, 0]\n"
     ]
    }
   ],
   "source": [
    "viper.start_continuous(dev, ep, pno_mode=\"standard\", framecount=\"reset\")"
   ]
  },
  {
   "cell_type": "code",
   "execution_count": 4,
   "metadata": {},
   "outputs": [
    {
     "data": {
      "text/plain": [
       "array('B', [86, 80, 82, 80, 84, 0, 0, 0, 0, 0, 0, 0, 8, 0, 0, 0, 0, 0, 0, 0, 2, 0, 0, 0, 0, 66, 0, 0, 101, 231, 15, 65, 139, 200, 180, 64, 106, 101, 20, 64, 105, 254, 43, 67, 7, 125, 218, 193, 119, 110, 35, 195, 0, 0, 0, 0, 1, 130, 4, 0, 10, 166, 51, 66, 127, 109, 7, 194, 64, 72, 113, 62, 40, 135, 238, 66, 174, 8, 212, 192, 192, 81, 3, 67, 0, 0, 0, 0, 34, 165, 0, 0])"
      ]
     },
     "execution_count": 4,
     "metadata": {},
     "output_type": "execute_result"
    }
   ],
   "source": [
    "dev.read(ep, 100, 200)"
   ]
  },
  {
   "cell_type": "code",
   "execution_count": 3,
   "metadata": {},
   "outputs": [
    {
     "data": {
      "text/html": [
       "<div>\n",
       "<style scoped>\n",
       "    .dataframe tbody tr th:only-of-type {\n",
       "        vertical-align: middle;\n",
       "    }\n",
       "\n",
       "    .dataframe tbody tr th {\n",
       "        vertical-align: top;\n",
       "    }\n",
       "\n",
       "    .dataframe thead th {\n",
       "        text-align: right;\n",
       "    }\n",
       "</style>\n",
       "<table border=\"1\" class=\"dataframe\">\n",
       "  <thead>\n",
       "    <tr style=\"text-align: right;\">\n",
       "      <th></th>\n",
       "      <th>sensor_n</th>\n",
       "      <th>frames</th>\n",
       "      <th>time</th>\n",
       "      <th>x</th>\n",
       "      <th>y</th>\n",
       "      <th>z</th>\n",
       "      <th>azimuth</th>\n",
       "      <th>elevation</th>\n",
       "      <th>roll</th>\n",
       "    </tr>\n",
       "  </thead>\n",
       "  <tbody>\n",
       "    <tr>\n",
       "      <th>0</th>\n",
       "      <td>1</td>\n",
       "      <td>24154</td>\n",
       "      <td>2022-05-05T22:48:39.533252</td>\n",
       "      <td>9.010628</td>\n",
       "      <td>5.649452</td>\n",
       "      <td>2.351197</td>\n",
       "      <td>172.175293</td>\n",
       "      <td>-28.035522</td>\n",
       "      <td>-165.601578</td>\n",
       "    </tr>\n",
       "    <tr>\n",
       "      <th>1</th>\n",
       "      <td>2</td>\n",
       "      <td>24154</td>\n",
       "      <td>2022-05-05T22:48:39.533252</td>\n",
       "      <td>44.924061</td>\n",
       "      <td>-33.885765</td>\n",
       "      <td>0.258443</td>\n",
       "      <td>119.227028</td>\n",
       "      <td>-6.605873</td>\n",
       "      <td>131.344360</td>\n",
       "    </tr>\n",
       "  </tbody>\n",
       "</table>\n",
       "</div>"
      ],
      "text/plain": [
       "   sensor_n  frames                        time          x          y  \\\n",
       "0         1   24154  2022-05-05T22:48:39.533252   9.010628   5.649452   \n",
       "1         2   24154  2022-05-05T22:48:39.533252  44.924061 -33.885765   \n",
       "\n",
       "          z     azimuth  elevation        roll  \n",
       "0  2.351197  172.175293 -28.035522 -165.601578  \n",
       "1  0.258443  119.227028  -6.605873  131.344360  "
      ]
     },
     "execution_count": 3,
     "metadata": {},
     "output_type": "execute_result"
    }
   ],
   "source": [
    "df = viper.get_single_pno(dev=dev, ep=ep, pno_mode=\"standard\")\n",
    "df"
   ]
  }
 ],
 "metadata": {
  "interpreter": {
   "hash": "2a3816ecf402c0b88d9cab3980a7ca3eb8c3407845a853c54b7b0db876bb928a"
  },
  "kernelspec": {
   "display_name": "Python 3.10.2 ('stats_anal')",
   "language": "python",
   "name": "python3"
  },
  "language_info": {
   "codemirror_mode": {
    "name": "ipython",
    "version": 3
   },
   "file_extension": ".py",
   "mimetype": "text/x-python",
   "name": "python",
   "nbconvert_exporter": "python",
   "pygments_lexer": "ipython3",
   "version": "3.10.2"
  },
  "orig_nbformat": 4
 },
 "nbformat": 4,
 "nbformat_minor": 2
}
